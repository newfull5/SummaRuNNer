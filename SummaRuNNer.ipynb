{
 "cells": [
  {
   "cell_type": "code",
   "execution_count": 1,
   "metadata": {},
   "outputs": [
    {
     "name": "stderr",
     "output_type": "stream",
     "text": [
      "C:\\Users\\newfu\\anaconda3\\lib\\site-packages\\pytorch_lightning\\utilities\\distributed.py:37: UserWarning: Unsupported `ReduceOp` for distributed computing.\n",
      "  warnings.warn(*args, **kwargs)\n"
     ]
    }
   ],
   "source": [
    "import torch\n",
    "from torch import nn\n",
    "import pytorch_lightning as pl"
   ]
  },
  {
   "cell_type": "code",
   "execution_count": 2,
   "metadata": {},
   "outputs": [],
   "source": [
    "doc_len = 30 # 30 sentences are in each document\n",
    "sent_len = 50 # 50 words are in each sentence\n",
    "\n",
    "word_num = 1000 # 1000 words are in Embedding table\n",
    "E_D = 128 # Embedding Dimension\n",
    "H = 256 # Hidden State\n",
    "S = 10 # Relative position Embedding table\n",
    "P_V = 50 # Absolute postion Embedding table\n",
    "P_D = 64 # Position Embedding Dimension\n",
    "\n",
    "fc = nn.Linear(2*H, 2*H) # to create Doc_Rep\n",
    "\n",
    "word_embed = nn.Embedding(word_num, E_D)\n",
    "rel_pos_embed = nn.Embedding(S, P_D)\n",
    "abs_pos_embed = nn.Embedding(P_V, P_D)\n",
    "\n",
    "content = nn.Linear(2*H, 1, bias=False)\n",
    "salience = nn.Bilinear(2*H, 2*H, 1, bias=False)\n",
    "novelty = nn.Bilinear(2*H, 2*H, 1, bias=False)\n",
    "abs_pos_imp_layer = nn.Linear(P_D, 1, bias=False)\n",
    "rel_pos_imp_layer = nn.Linear(P_D, 1, bias=False)\n",
    "bias = nn.Parameter(torch.FloatTensor(1).uniform_(-0.1,0.1))\n",
    "\n",
    "\n",
    "# Word - Level RNN\n",
    "word_rnn = nn.GRU(\n",
    "    input_size = E_D,\n",
    "    hidden_size = H,\n",
    "    bidirectional = True,\n",
    "    batch_first = True\n",
    ")\n",
    "\n",
    "# Sentence - Level RNN\n",
    "sent_rnn = nn.GRU(\n",
    "    input_size = 2*H,\n",
    "    hidden_size = H,\n",
    "    bidirectional = True,\n",
    "    batch_first = True\n",
    ")"
   ]
  },
  {
   "cell_type": "code",
   "execution_count": 3,
   "metadata": {},
   "outputs": [],
   "source": [
    "def Avg_pool(inputs, kernel_size):\n",
    "    \n",
    "    m = nn.MaxPool1d(kernel_size=kernel_size)\n",
    "    \n",
    "    return torch.stack([m(inputs[i].T.unsqueeze(0)).squeeze(0).T.squeeze(0) for i in range(inputs.size(0))],dim=0)"
   ]
  },
  {
   "cell_type": "code",
   "execution_count": 4,
   "metadata": {},
   "outputs": [],
   "source": [
    "# Example Data\n",
    "\n",
    "# x = (the number of Documents, the number of sentences in each document, the number of words in each sentence)\n",
    "x = torch.randint(1, 1000, (10, doc_len, sent_len))"
   ]
  },
  {
   "cell_type": "code",
   "execution_count": 5,
   "metadata": {},
   "outputs": [],
   "source": [
    "# Input Layer\n",
    "x = word_embed(x)"
   ]
  },
  {
   "cell_type": "code",
   "execution_count": 6,
   "metadata": {},
   "outputs": [],
   "source": [
    "# Word Layer\n",
    "\n",
    "word_out = []\n",
    "\n",
    "# inputs = (10, 30, 50, 128) = (batch_size, sentences, words, word_embedding_dimension)\n",
    "for doc in x:\n",
    "    outputs, _ = word_rnn(x[0])\n",
    "\n",
    "    word_out.append(Avg_pool(outputs, sent_len))\n",
    "    \n",
    "# outputs = (10, 30, 512) = (batch_size, sentenes, word_embedding_dimension)\n",
    "word_out = torch.stack(word_out, dim=0)"
   ]
  },
  {
   "cell_type": "code",
   "execution_count": 25,
   "metadata": {},
   "outputs": [
    {
     "name": "stderr",
     "output_type": "stream",
     "text": [
      "C:\\Users\\newfu\\anaconda3\\lib\\site-packages\\ipykernel_launcher.py:18: UserWarning: To copy construct from a tensor, it is recommended to use sourceTensor.clone().detach() or sourceTensor.clone().detach().requires_grad_(True), rather than torch.tensor(sourceTensor).\n"
     ]
    }
   ],
   "source": [
    "# Sentence Layer\n",
    "sent_out, _ = sent_rnn(word_out)\n",
    "\n",
    "sent_out = Avg_pool(sent_out, doc_len)\n",
    "\n",
    "probs = []\n",
    "\n",
    "for index, doc in enumerate(sent_out):\n",
    "    Doc_Rep = torch.tanh(fc(doc)).unsqueeze(0)\n",
    "    \n",
    "    s = torch.zeros(1, 2*H, requires_grad=True)\n",
    "    \n",
    "    for position, h in enumerate(word_out[index]):\n",
    "        \n",
    "        h = h.view(1, -1)\n",
    "        \n",
    "        abs_pos = abs_pos_embed(torch.tensor(position))\n",
    "        \n",
    "        rel_index = torch.tensor(torch.tensor(round(position * 10 / sent_len)))\n",
    "        rel_pos = rel_pos_embed(rel_index)\n",
    "        \n",
    "        prob = torch.sigmoid(\n",
    "            content(h) +\n",
    "            salience(h,Doc_Rep) -\n",
    "            novelty(h,torch.tanh(s)) +\n",
    "            abs_pos_imp_layer(abs_pos) +\n",
    "            rel_pos_imp_layer(rel_pos) +\n",
    "            bias\n",
    "        )\n",
    "        \n",
    "        s = s + torch.matmul(prob,h)\n",
    "        \n",
    "        probs.append(prob)\n",
    "        \n",
    "#return torch.cat(probs).squeeze()"
   ]
  },
  {
   "cell_type": "code",
   "execution_count": null,
   "metadata": {},
   "outputs": [],
   "source": []
  }
 ],
 "metadata": {
  "kernelspec": {
   "display_name": "Python 3",
   "language": "python",
   "name": "python3"
  },
  "language_info": {
   "codemirror_mode": {
    "name": "ipython",
    "version": 3
   },
   "file_extension": ".py",
   "mimetype": "text/x-python",
   "name": "python",
   "nbconvert_exporter": "python",
   "pygments_lexer": "ipython3",
   "version": "3.7.6"
  }
 },
 "nbformat": 4,
 "nbformat_minor": 4
}
